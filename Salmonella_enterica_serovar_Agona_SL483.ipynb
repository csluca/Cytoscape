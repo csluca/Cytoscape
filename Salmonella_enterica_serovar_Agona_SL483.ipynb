{
 "cells": [
  {
   "cell_type": "code",
   "execution_count": 40,
   "metadata": {
    "collapsed": true
   },
   "outputs": [],
   "source": [
    "import requests\n",
    "import json\n",
    "from IPython.display import display\n",
    "from IPython.display import Image\n",
    "import numpy as np\n",
    "import networkx as nx\n",
    "from py2cytoscape import util as cy \n",
    "\n",
    "PORT_NUMBER = 1234\n",
    "BASE = 'http://localhost:' + str(PORT_NUMBER) + '/v1/'\n",
    "HEADERS = {'Content-Type': 'application/json'}"
   ]
  },
  {
   "cell_type": "code",
   "execution_count": 41,
   "metadata": {
    "collapsed": false
   },
   "outputs": [],
   "source": [
    "res = requests.delete(BASE + 'network')"
   ]
  },
  {
   "cell_type": "code",
   "execution_count": 42,
   "metadata": {
    "collapsed": false
   },
   "outputs": [],
   "source": [
    "import csv\n",
    "\n",
    "with open('Salmonella_enterica_serovar_Agona_SL483_allnetworks.csv', 'r') as f:\n",
    "  reader = csv.reader(f)\n",
    "  your_list = list(reader)\n",
    "    \n",
    "new_list=your_list[2:]\n",
    "#print(new_list[0])\n",
    "#print(len(new_list))"
   ]
  },
  {
   "cell_type": "code",
   "execution_count": 43,
   "metadata": {
    "collapsed": false,
    "scrolled": true
   },
   "outputs": [
    {
     "data": {
      "text/plain": [
       "array([['SeAg_B1491', 'fnr', 'B5F5B3', 'SeAg_B2419', 'glpT', 'B5EYW8',\n",
       "        'Ecoli', '147', '2152', 'Salmonella_enterica_serovar_Agona_SL483',\n",
       "        'Transcriptional_regulatory'],\n",
       "       ['SeAg_B3576', 'fis', 'B5F7P5', 'SeAg_B2419', 'glpT', 'B5EYW8',\n",
       "        'Ecoli', '1300', '2152', 'Salmonella_enterica_serovar_Agona_SL483',\n",
       "        'Transcriptional_regulatory'],\n",
       "       ['SeAg_B3724', 'SeAg_B3724', 'B5F8N9', 'SeAg_B2419', 'glpT',\n",
       "        'B5EYW8', 'Ecoli', '2287', '2152',\n",
       "        'Salmonella_enterica_serovar_Agona_SL483',\n",
       "        'Transcriptional_regulatory'],\n",
       "       ['SeAg_B3663', 'crp', 'B5F8H8', 'SeAg_B2419', 'glpT', 'B5EYW8',\n",
       "        'Ecoli', '2484', '2152', 'Salmonella_enterica_serovar_Agona_SL483',\n",
       "        'Transcriptional_regulatory'],\n",
       "       ['SeAg_B4193', 'metR', 'B5EZT9', 'SeAg_B2419', 'glpT', 'B5EYW8',\n",
       "        'Salm', '3412', '2152', 'Salmonella_enterica_serovar_Agona_SL483',\n",
       "        'Transcriptional_regulatory']], \n",
       "      dtype='<U39')"
      ]
     },
     "execution_count": 43,
     "metadata": {},
     "output_type": "execute_result"
    }
   ],
   "source": [
    "nplist= np.array(new_list)\n",
    "nplist[nplist[:,5]=='B5EYW8',:]"
   ]
  },
  {
   "cell_type": "code",
   "execution_count": 44,
   "metadata": {
    "collapsed": false
   },
   "outputs": [
    {
     "name": "stdout",
     "output_type": "stream",
     "text": [
      "Number of Nodes = 2656\n",
      "Number of Edges = 7032\n"
     ]
    },
    {
     "data": {
      "image/png": "[encoded data removed]",
      "text/plain": [
       "<IPython.core.display.Image object>"
      ]
     },
     "execution_count": 44,
     "metadata": {},
     "output_type": "execute_result"
    }
   ],
   "source": [
    "res = requests.delete(BASE + 'session')\n",
    "\n",
    "g = nx.MultiGraph(name='Salmonella enterica serovar Agona SL483')\n",
    "\n",
    "for lists in new_list:\n",
    "    g.add_node(lists[2], node_1_locus_tag=lists[0], node_1_gene_name=lists[1], node_1_ortholog_group=lists[6], node_2_locus_tag=lists[3], node_2_gene_name=lists[4], node_2_ortholog_group=lists[7])\n",
    "    \n",
    "    \n",
    "for lists in new_list:\n",
    "    g.add_edge(lists[2],lists[5], interaction_type=lists[10], source_data=lists[8], strain=lists[9] )\n",
    "\n",
    "\n",
    "print('Number of Nodes = ' + str(g.number_of_nodes()))\n",
    "print('Number of Edges = ' + str(g.number_of_edges()))\n",
    "\n",
    "cytoscape_network = cy.from_networkx(g)\n",
    "\n",
    "res1 = requests.post(BASE + 'networks', data=json.dumps(cytoscape_network), headers=HEADERS)\n",
    "res1_dict = res1.json()\n",
    "new_suid = res1_dict['networkSUID']\n",
    "requests.get(BASE + 'apply/layouts/force-directed/' + str(new_suid))\n",
    "Image(BASE+'networks/' + str(new_suid) + '/views/first.png')"
   ]
  },
  {
   "cell_type": "code",
   "execution_count": 45,
   "metadata": {
    "collapsed": false
   },
   "outputs": [
    {
     "data": {
      "text/plain": [
       "4003"
      ]
     },
     "execution_count": 45,
     "metadata": {},
     "output_type": "execute_result"
    }
   ],
   "source": [
    "len(set(nplist[:,2])) + len(set(nplist[:,5]))"
   ]
  },
  {
   "cell_type": "code",
   "execution_count": null,
   "metadata": {
    "collapsed": true
   },
   "outputs": [],
   "source": []
  }
 ],
 "metadata": {
  "kernelspec": {
   "display_name": "Python 3",
   "language": "python",
   "name": "python3"
  },
  "language_info": {
   "codemirror_mode": {
    "name": "ipython",
    "version": 3
   },
   "file_extension": ".py",
   "mimetype": "text/x-python",
   "name": "python",
   "nbconvert_exporter": "python",
   "pygments_lexer": "ipython3",
   "version": "3.5.1"
  }
 },
 "nbformat": 4,
 "nbformat_minor": 0
}
