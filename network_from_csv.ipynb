{
 "cells": [
  {
   "cell_type": "code",
   "execution_count": 57,
   "metadata": {
    "collapsed": true
   },
   "outputs": [],
   "source": [
    "import requests\n",
    "import json\n",
    "import csv\n",
    "from IPython.display import display\n",
    "from IPython.display import Image\n",
    "import networkx as nx\n",
    "from py2cytoscape import util as cy"
   ]
  },
  {
   "cell_type": "markdown",
   "metadata": {},
   "source": [
    "Function to create a cytoscape network from a csv file."
   ]
  },
  {
   "cell_type": "code",
   "execution_count": 58,
   "metadata": {
    "collapsed": false
   },
   "outputs": [],
   "source": [
    "def network_from_csv(csv_filename, network_name):\n",
    "    '''Creates a Cytoscape network from a .csv file'''\n",
    "    \n",
    "#Basic setup\n",
    "    PORT_NUMBER = 1234\n",
    "    BASE = 'http://localhost:' + str(PORT_NUMBER) + '/v1/'\n",
    "    HEADERS = {'Content-Type': 'application/json'}\n",
    "\n",
    "#Opening CSV file, creating lists from each row    \n",
    "    with open(csv_filename, 'r') as f:\n",
    "      reader = csv.reader(f, skipinitialspace=True, delimiter=',')\n",
    "      your_list = list(reader)\n",
    "    new_list=your_list[2:]\n",
    "\n",
    "#Clearing session\n",
    "    res = requests.delete(BASE + 'session')\n",
    "    \n",
    "#Creating netwok\n",
    "    g = nx.MultiGraph(name=network_name)\n",
    "\n",
    "    for lists in new_list:\n",
    "        g.add_node(lists[2], node_1_locus_tag=lists[0], node_1_gene_name=lists[1], node_1_ortholog_group=lists[6], node_2_locus_tag=lists[3], node_2_gene_name=lists[4], node_2_ortholog_group=lists[7])\n",
    "\n",
    "    for lists in new_list:\n",
    "        g.add_edge(lists[2],lists[5], interaction_type=lists[10], source_data=lists[8], strain=lists[9] )\n",
    "\n",
    "#Uncomment these if you want to see the number of nodes and edges in the notebook\n",
    "    #print('Number of Nodes = ' + str(g.number_of_nodes()))\n",
    "    #print('Number of Edges = ' + str(g.number_of_edges()))\n",
    "\n",
    "    cytoscape_network = cy.from_networkx(g)\n",
    "\n",
    "    res1 = requests.post(BASE + 'networks', data=json.dumps(cytoscape_network), headers=HEADERS)\n",
    "    res1_dict = res1.json()\n",
    "    new_suid = res1_dict['networkSUID']\n",
    "    requests.get(BASE + 'apply/layouts/force-directed/' + str(new_suid))\n",
    "    \n",
    "#Uncomment this if you want to see the network in the notebook\n",
    "    #return Image(BASE+'networks/' + str(new_suid) + '/views/first.png')"
   ]
  },
  {
   "cell_type": "markdown",
   "metadata": {},
   "source": [
    "Same thing but with dictionaries, if the order of the columns is different but the header names are the same"
   ]
  },
  {
   "cell_type": "code",
   "execution_count": 62,
   "metadata": {
    "collapsed": true
   },
   "outputs": [],
   "source": [
    "def network_from_csv_dict(csv_filename, network_name):\n",
    "    '''Creates a Cytoscape network from a .csv file through creating dictionaries'''\n",
    "    \n",
    "#Basic setup\n",
    "    PORT_NUMBER = 1234\n",
    "    BASE = 'http://localhost:' + str(PORT_NUMBER) + '/v1/'\n",
    "    HEADERS = {'Content-Type': 'application/json'}\n",
    "\n",
    "#Opening CSV file, creating dictionaries from each row    \n",
    "    with open(csv_filename, 'r') as f:\n",
    "      reader = csv.DictReader(f, skipinitialspace=True, delimiter=',')\n",
    "      your_list = list(reader)\n",
    "\n",
    "    new_list=your_list[1:]\n",
    "\n",
    "#Clearing session\n",
    "    res = requests.delete(BASE + 'session')\n",
    "    \n",
    "#Creating netwok\n",
    "    g = nx.MultiDiGraph(name=network_name)\n",
    "\n",
    "    for dicts in new_list:\n",
    "        g.add_node(dicts['Node_1_Uniprot_ID'], node_1_locus_tag=dicts['Node_1_locus_tag'], node_1_gene_name=dicts['Node_1_gene_name_'], node_1_ortholog_group=dicts['Node_1_orthology_group_ID'], node_2_locus_tag=dicts['Node_2_locus_tag'], node_2_gene_name=dicts['Node_2_gene_name'], node_2_ortholog_group=dicts['Node_1_orthology_group_ID'])\n",
    "\n",
    "    for dicts in new_list:\n",
    "        g.add_edge(dicts['Node_1_Uniprot_ID'],dicts['Node_2_Uniprot_ID'], interaction_type=dicts['Layer'], source_data=dicts['Source'], strain=dicts['Strain'] )\n",
    "\n",
    "#Uncomment these if you want to see the number of nodes and edges in the notebook\n",
    "    #print('Number of Nodes = ' + str(g.number_of_nodes()))\n",
    "    #print('Number of Edges = ' + str(g.number_of_edges()))\n",
    "\n",
    "    cytoscape_network = cy.from_networkx(g)\n",
    "\n",
    "    res1 = requests.post(BASE + 'networks', data=json.dumps(cytoscape_network), headers=HEADERS)\n",
    "    res1_dict = res1.json()\n",
    "    new_suid = res1_dict['networkSUID']\n",
    "    requests.get(BASE + 'apply/layouts/force-directed/' + str(new_suid))\n",
    "#Uncomment this if you want to see the network in the notebook\n",
    "    #return Image(BASE+'networks/' + str(new_suid) + '/views/first.png')"
   ]
  },
  {
   "cell_type": "code",
   "execution_count": null,
   "metadata": {
    "collapsed": true
   },
   "outputs": [],
   "source": []
  }
 ],
 "metadata": {
  "kernelspec": {
   "display_name": "Python 3",
   "language": "python",
   "name": "python3"
  },
  "language_info": {
   "codemirror_mode": {
    "name": "ipython",
    "version": 3
   },
   "file_extension": ".py",
   "mimetype": "text/x-python",
   "name": "python",
   "nbconvert_exporter": "python",
   "pygments_lexer": "ipython3",
   "version": "3.5.1"
  }
 },
 "nbformat": 4,
 "nbformat_minor": 0
}
